{
 "cells": [
  {
   "cell_type": "markdown",
   "metadata": {
    "id": "NZlef0NNkKm9"
   },
   "source": [
    "# Import `pygismo` and other packages"
   ]
  },
  {
   "cell_type": "markdown",
   "metadata": {
    "id": "C6jPF7CRkW2R"
   },
   "source": [
    "We import `pygismo`"
   ]
  },
  {
   "cell_type": "code",
   "execution_count": null,
   "metadata": {},
   "outputs": [],
   "source": [
    "import pygismo as gs"
   ]
  },
  {
   "cell_type": "markdown",
   "metadata": {
    "id": "lypptSy8rAkh"
   },
   "source": [
    "We also import `numpy` and `matplotlib`"
   ]
  },
  {
   "cell_type": "code",
   "execution_count": null,
   "metadata": {},
   "outputs": [],
   "source": [
    "import numpy as np\n",
    "%matplotlib inline\n",
    "import matplotlib.pyplot as plt\n",
    "\n",
    "from matplotlib import cm\n",
    "from mpl_toolkits.mplot3d import axes3d"
   ]
  },
  {
   "cell_type": "markdown",
   "metadata": {
    "id": "ZSVucid1pNUN"
   },
   "source": [
    "# Constructing a 2D basis"
   ]
  },
  {
   "cell_type": "markdown",
   "metadata": {
    "id": "5NfzNb2TozKh"
   },
   "source": [
    "A 2D B-spline basis is a *tensor-product* basis. This means that it has two knot vectors $\\Xi_u$ and $\\Xi_v$. In this case, we choose:\n",
    "\n",
    "$\\Xi_u = \\{0,0,0,1,1,1\\}$\n",
    "\n",
    "$\\Xi_v = \\{0,0,0,1,1,1\\}$\n"
   ]
  },
  {
   "cell_type": "code",
   "execution_count": null,
   "metadata": {},
   "outputs": [],
   "source": [
    "kv_u = gs.nurbs.gsKnotVector(np.array([0,0,0,1,1,1]),2)\n",
    "kv_v = gs.nurbs.gsKnotVector(np.array([0,0,0,1,1,1]),2)"
   ]
  },
  {
   "cell_type": "markdown",
   "metadata": {
    "id": "YgBtTHBzuwvc"
   },
   "source": [
    "The basis can be constructed in two ways:\n",
    "1. By constructing two `gsBSplineBasis` object, and feeding them to a `gsTensorBSplineBasis2`, or,\n",
    "2. By feeding the `gsKnotVector` objects directly to a `gsTensorBSplineBasis2`\n"
   ]
  },
  {
   "cell_type": "markdown",
   "metadata": {
    "id": "u_ldYqIEu_kn"
   },
   "source": [
    "Option 1:"
   ]
  },
  {
   "cell_type": "code",
   "execution_count": null,
   "metadata": {},
   "outputs": [],
   "source": [
    "basis_u = gs.nurbs.gsBSplineBasis(kv_u)\n",
    "basis_v = gs.nurbs.gsBSplineBasis(kv_v)\n",
    "\n",
    "tbasis = gs.nurbs.gsTensorBSplineBasis2(basis_u,basis_v)\n",
    "print('The basis has size: ', tbasis.size())"
   ]
  },
  {
   "cell_type": "markdown",
   "metadata": {
    "id": "oKHobCOHvElv"
   },
   "source": [
    "Option 2:"
   ]
  },
  {
   "cell_type": "code",
   "execution_count": null,
   "metadata": {},
   "outputs": [],
   "source": [
    "tbasis = gs.nurbs.gsTensorBSplineBasis2(kv_u,kv_v)\n",
    "print('The basis has size: ', tbasis.size())"
   ]
  },
  {
   "cell_type": "markdown",
   "metadata": {
    "id": "4JH2wgqZvJCq"
   },
   "source": [
    "# Plotting the 2D basis in Python"
   ]
  },
  {
   "cell_type": "markdown",
   "metadata": {
    "id": "_j89xUM7vLT1"
   },
   "source": [
    "To plot the tensor basis, we define two parametric coordinate vectors `x` and `y` and we make a `numpy.meshgrid` from them. Then, we stack the coordinates in such a way that we have a matrix with parametric points in the columns"
   ]
  },
  {
   "cell_type": "code",
   "execution_count": null,
   "metadata": {},
   "outputs": [],
   "source": [
    "N = M = 100\n",
    "x = np.linspace(0,1,N)\n",
    "y = np.linspace(0,1,M)\n",
    "XX, YY = np.meshgrid(x,y,indexing='xy')\n",
    "pts = np.stack((XX.flatten(),YY.flatten()))"
   ]
  },
  {
   "cell_type": "markdown",
   "metadata": {
    "id": "Curs-xvhvkOA"
   },
   "source": [
    "What's left is to evaluate a basis function. We provide an `index` to `evalSingle`"
   ]
  },
  {
   "cell_type": "code",
   "execution_count": null,
   "metadata": {},
   "outputs": [],
   "source": [
    "index = 30\n",
    "z = tbasis.evalSingle(index,pts)\n",
    "ZZ = z.reshape((N,M))"
   ]
  },
  {
   "cell_type": "markdown",
   "metadata": {
    "id": "hxLzQ7xqvt8T"
   },
   "source": [
    "We can plot the basis using `matplotlib` using a surface plot"
   ]
  },
  {
   "cell_type": "code",
   "execution_count": null,
   "metadata": {},
   "outputs": [],
   "source": [
    "fig = plt.figure()\n",
    "ax = fig.add_subplot(projection ='3d')\n",
    "ax.plot_surface(XX,YY,ZZ,cmap=cm.coolwarm)\n",
    "plt.show()"
   ]
  },
  {
   "cell_type": "markdown",
   "metadata": {
    "id": "f80waz_iv1Xy"
   },
   "source": [
    "# Plotting a 2D basis using Paraview"
   ]
  },
  {
   "cell_type": "markdown",
   "metadata": {
    "id": "0zWIqPUhv35u"
   },
   "source": [
    "Alternatively, we can use Paraview to plot a surface. Using `pygismo`'s built-in functions, this is an easy task:"
   ]
  },
  {
   "cell_type": "code",
   "execution_count": null,
   "metadata": {},
   "outputs": [],
   "source": [
    "gs.io.gsWriteParaview(tbasis,\"output/basis\",100000)"
   ]
  },
  {
   "cell_type": "markdown",
   "metadata": {
    "id": "OebQxCVwxMfg"
   },
   "source": [
    "This creates the files `basisX.vts` with `X`$=0,...,N-1$ and `basis.pvd`. When we open `basis.pvd` in paraview, we see the full basis."
   ]
  }
 ],
 "metadata": {
  "language_info": {
   "name": "python"
  }
 },
 "nbformat": 4,
 "nbformat_minor": 0
}
