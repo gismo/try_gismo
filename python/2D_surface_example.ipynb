{
 "cells": [
  {
   "cell_type": "markdown",
   "metadata": {
    "id": "NZlef0NNkKm9"
   },
   "source": [
    "# Import `pygismo` and other packages"
   ]
  },
  {
   "cell_type": "markdown",
   "metadata": {
    "id": "C6jPF7CRkW2R"
   },
   "source": [
    "We import `pygismo`"
   ]
  },
  {
   "cell_type": "code",
   "execution_count": null,
   "metadata": {},
   "outputs": [],
   "source": []
  },
  {
   "cell_type": "code",
   "execution_count": null,
   "metadata": {},
   "outputs": [],
   "source": [
    "import pygismo as gs"
   ]
  },
  {
   "cell_type": "markdown",
   "metadata": {
    "id": "lypptSy8rAkh"
   },
   "source": [
    "We also import `numpy` and `matplotlib`"
   ]
  },
  {
   "cell_type": "code",
   "execution_count": null,
   "metadata": {},
   "outputs": [],
   "source": [
    "import numpy as np\n",
    "%matplotlib inline\n",
    "import matplotlib.pyplot as plt\n",
    "\n",
    "from matplotlib import cm\n",
    "from mpl_toolkits.mplot3d import axes3d"
   ]
  },
  {
   "cell_type": "markdown",
   "metadata": {
    "id": "ZSVucid1pNUN"
   },
   "source": [
    "# Constructing a 2D basis"
   ]
  },
  {
   "cell_type": "markdown",
   "metadata": {
    "id": "5NfzNb2TozKh"
   },
   "source": [
    "We use the same B-spline basis as in the previous example, with knot vectors:\n",
    "\n",
    "$\\Xi_u = \\Xi_v = \\{0,0,0,0.25,0.50,0.75,1,1,1\\}$\n"
   ]
  },
  {
   "cell_type": "code",
   "execution_count": null,
   "metadata": {},
   "outputs": [],
   "source": [
    "kv_u = kv_v = gs.nurbs.gsKnotVector(np.array([0,0,0,0.25,0.50,0.75,1,1,1]),2)"
   ]
  },
  {
   "cell_type": "code",
   "execution_count": null,
   "metadata": {},
   "outputs": [],
   "source": [
    "tbasis = gs.nurbs.gsTensorBSplineBasis2(kv_u,kv_v)\n"
   ]
  },
  {
   "cell_type": "markdown",
   "metadata": {
    "id": "B4UJ5_Ai0W6f"
   },
   "source": [
    "# Definining a surface"
   ]
  },
  {
   "cell_type": "markdown",
   "metadata": {
    "id": "wqKCCHiF0ZZD"
   },
   "source": [
    "Similar to defining a curve, we define a matrix of control points to construct a surface. For a basis of size $N$, the coefficient matrix is defined as an $N\\times d$ matrix, with $d$ the geometric dimension. Furthermore, we initialize the coefficient matrix with $N\\times d$ zeros.\n",
    "\n",
    "Since our basis is composed of the same knot vector in both directions, the number of functions in each direction is $n=\\sqrt{N}$."
   ]
  },
  {
   "cell_type": "code",
   "execution_count": null,
   "metadata": {},
   "outputs": [],
   "source": [
    "coefs = np.zeros((tbasis.size(),3))\n",
    "n = np.sqrt(tbasis.size())"
   ]
  },
  {
   "cell_type": "markdown",
   "metadata": {
    "id": "2iohz0pO1EHW"
   },
   "source": [
    "Then, we define the control points in a uniformly spaced grid. We use `numpy.linspace` and `numpy.meshgrid` for this"
   ]
  },
  {
   "cell_type": "code",
   "execution_count": null,
   "metadata": {},
   "outputs": [],
   "source": [
    "x = np.linspace(0,1,int(n))\n",
    "X,Y = np.meshgrid(x,x)\n",
    "coefs[:,0] = X.flatten()\n",
    "coefs[:,1] = Y.flatten()"
   ]
  },
  {
   "cell_type": "markdown",
   "metadata": {
    "id": "LZR-AeNl1QU2"
   },
   "source": [
    "Since the coefficient matrix is initialized with zeros, we modify a few coefficients to displace the points out-of-plane."
   ]
  },
  {
   "cell_type": "code",
   "execution_count": null,
   "metadata": {},
   "outputs": [],
   "source": [
    "coefs[12,2] = -1\n",
    "coefs[16,2] = 1\n",
    "coefs[22,2] = -1\n",
    "coefs[26,2] = 10"
   ]
  },
  {
   "cell_type": "markdown",
   "metadata": {
    "id": "7Bw0qAH91iQL"
   },
   "source": [
    "Having defined the coefficient matrix, we can make a tensor B-splne surface using the basis and the coefficient matrix."
   ]
  },
  {
   "cell_type": "code",
   "execution_count": null,
   "metadata": {},
   "outputs": [],
   "source": [
    "surf = gs.nurbs.gsTensorBSpline2(tbasis,coefs)"
   ]
  },
  {
   "cell_type": "markdown",
   "metadata": {
    "id": "JHvtIeGe1pNQ"
   },
   "source": [
    "# Plotting the 3D surface"
   ]
  },
  {
   "cell_type": "markdown",
   "metadata": {
    "id": "qHb9stvt1-B9"
   },
   "source": [
    "We can use `matplotlib` to plot the surface here in python. As always, we start by creating a set of parametric points. Here, they stored in `x` and `y`, on their turn used to construct a `numpy.meshgrid`. The grid is used to create a matrix of parametric points to evaluate the surface on. The matrix stores the points as columns."
   ]
  },
  {
   "cell_type": "code",
   "execution_count": null,
   "metadata": {},
   "outputs": [],
   "source": [
    "N = M = 100\n",
    "x = np.linspace(0,1,N)\n",
    "y = np.linspace(0,1,M)\n",
    "XX, YY = np.meshgrid(x,y,indexing='xy')\n",
    "pts = np.stack((XX.flatten(),YY.flatten()))\n",
    "\n",
    "print(pts)"
   ]
  },
  {
   "cell_type": "markdown",
   "metadata": {
    "id": "ua76rgx92T1J"
   },
   "source": [
    "The surface is simply evaluated using `eval`, and the result is properly reshaped into the format of the `numpy.meshgrid`:"
   ]
  },
  {
   "cell_type": "code",
   "execution_count": null,
   "metadata": {},
   "outputs": [],
   "source": [
    "S = surf.eval(pts)\n",
    "ZZ = S[2,:].reshape((N,M))"
   ]
  },
  {
   "cell_type": "markdown",
   "metadata": {
    "id": "SMh7ct1-2fsP"
   },
   "source": [
    "Then, we use `matplotlib` to plot the surface and its control points"
   ]
  },
  {
   "cell_type": "code",
   "execution_count": null,
   "metadata": {},
   "outputs": [],
   "source": [
    "fig = plt.figure()\n",
    "ax = fig.add_subplot(projection ='3d')\n",
    "ax.plot_surface(XX,YY,ZZ,cmap=cm.coolwarm)\n",
    "ax.scatter(surf.coefs()[:,0],surf.coefs()[:,1],surf.coefs()[:,2])\n",
    "plt.show()"
   ]
  },
  {
   "cell_type": "markdown",
   "metadata": {
    "id": "wkN-lZ9u2lx3"
   },
   "source": [
    "# Reading a surface from a file"
   ]
  },
  {
   "cell_type": "markdown",
   "metadata": {
    "id": "lLiMPTlB2-Vg"
   },
   "source": [
    "As for the curve example, we can read the surface from XML."
   ]
  },
  {
   "cell_type": "code",
   "execution_count": null,
   "metadata": {},
   "outputs": [],
   "source": [
    "filename = \"filedata/surface_example.xml\"\n",
    "filedata = gs.io.gsFileData(filename)"
   ]
  },
  {
   "cell_type": "markdown",
   "metadata": {
    "id": "-jFPl4_lz3Pl"
   },
   "source": [
    "The surface is stored with id 0 in the file. Hence, to read it into an object, we do"
   ]
  },
  {
   "cell_type": "code",
   "execution_count": null,
   "metadata": {},
   "outputs": [],
   "source": [
    "XMLsurf = gs.nurbs.gsTensorBSpline2()\n",
    "filedata.getId(0,XMLsurf)\n",
    "\n",
    "print(XMLsurf.basis().size())\n",
    "print(XMLsurf.coefs())"
   ]
  },
  {
   "cell_type": "markdown",
   "metadata": {
    "id": "d3hGBDFD0CHX"
   },
   "source": [
    "Using the same plotting commands as before, we can plot the result"
   ]
  },
  {
   "cell_type": "code",
   "execution_count": null,
   "metadata": {},
   "outputs": [],
   "source": [
    "N = M = 100\n",
    "x = np.linspace(0,1,N)\n",
    "y = np.linspace(0,1,M)\n",
    "XX, YY = np.meshgrid(x,y,indexing='xy')\n",
    "pts = np.stack((XX.flatten(),YY.flatten()))\n",
    "\n",
    "S = XMLsurf.eval(pts)\n",
    "ZZ = S[2,:].reshape((N,M))\n",
    "\n",
    "fig = plt.figure()\n",
    "ax = fig.add_subplot(projection ='3d')\n",
    "ax.plot_surface(XX,YY,ZZ,cmap=cm.coolwarm)\n",
    "ax.scatter(XMLsurf.coefs()[:,0],XMLsurf.coefs()[:,1],XMLsurf.coefs()[:,2])\n",
    "plt.show()"
   ]
  },
  {
   "cell_type": "markdown",
   "metadata": {
    "id": "Z9SfTNf84W4a"
   },
   "source": [
    "# Plotting the result in Paraview"
   ]
  },
  {
   "cell_type": "markdown",
   "metadata": {
    "id": "8puFzdwI4ZF9"
   },
   "source": [
    "Alternatively, we can use Paraview to plot our surface. We simply use `pygismo`'s buit-in functionality"
   ]
  },
  {
   "cell_type": "code",
   "execution_count": null,
   "metadata": {},
   "outputs": [],
   "source": [
    "gs.io.gsWriteParaview(surf,\"output/surf\")"
   ]
  },
  {
   "cell_type": "markdown",
   "metadata": {
    "id": "4uBmrqPH4nro"
   },
   "source": [
    "This creates the files `surf0.vts` and `surf.pvd`. When we open `surf.pvd` in paraview, we see the surface."
   ]
  }
 ],
 "metadata": {
  "language_info": {
   "name": "python"
  }
 },
 "nbformat": 4,
 "nbformat_minor": 0
}
