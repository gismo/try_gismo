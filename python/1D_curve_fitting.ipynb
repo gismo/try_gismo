{
 "cells": [
  {
   "cell_type": "markdown",
   "metadata": {
    "id": "NZlef0NNkKm9"
   },
   "source": [
    "# Import `pygismo` and other packages"
   ]
  },
  {
   "cell_type": "markdown",
   "metadata": {
    "id": "C6jPF7CRkW2R"
   },
   "source": [
    "We import `pygismo`"
   ]
  },
  {
   "cell_type": "code",
   "execution_count": null,
   "metadata": {},
   "outputs": [],
   "source": [
    "import pygismo as gs"
   ]
  },
  {
   "cell_type": "markdown",
   "metadata": {
    "id": "lypptSy8rAkh"
   },
   "source": [
    "We also import `numpy` and `matplotlib`"
   ]
  },
  {
   "cell_type": "code",
   "execution_count": null,
   "metadata": {},
   "outputs": [],
   "source": [
    "import numpy as np\n",
    "%matplotlib inline\n",
    "import matplotlib.pyplot as plt"
   ]
  },
  {
   "cell_type": "markdown",
   "metadata": {
    "id": "ZSVucid1pNUN"
   },
   "source": [
    "# Constructing a 1D basis"
   ]
  },
  {
   "cell_type": "markdown",
   "metadata": {
    "id": "5NfzNb2TozKh"
   },
   "source": [
    "Similar to the `1D_basis_example.ipynb`, we construct a B-spline basis with knot vector Ξ = { 0, 0, 0, 0.25, 0.50, 0.75, 1, 1, 1 }."
   ]
  },
  {
   "cell_type": "code",
   "execution_count": null,
   "metadata": {},
   "outputs": [],
   "source": [
    "kv = gs.nurbs.gsKnotVector(np.array([0,0,0,0.50,1,1,1]),2)\n",
    "basis = gs.nurbs.gsBSplineBasis(kv)\n",
    "\n",
    "print('The knots of the basis are:\\n',basis.knots(0).get())\n",
    "print('The size of the basis is: ',basis.size())"
   ]
  },
  {
   "cell_type": "markdown",
   "metadata": {
    "id": "W_6YiIlXrtWG"
   },
   "source": [
    "# Fitting a curve through a data set"
   ]
  },
  {
   "cell_type": "markdown",
   "metadata": {
    "id": "lN9sLgkEryL4"
   },
   "source": [
    "First, we define $N$ points, with a linearly spaced $x$ coordinate $x_i\\in[0,10]$, and and $y$ coordinate according to $y = x^2(1+\\text{Unif}(0,1))$, where $\\text{Unif}(0,1)$ is a uniform distribution with values between 0 and 1.\n",
    "\n",
    "Then, we parameterize the points according to their $x$ coordinate, from 0 to 1"
   ]
  },
  {
   "cell_type": "code",
   "execution_count": null,
   "metadata": {},
   "outputs": [],
   "source": [
    "N = 11\n",
    "points = np.zeros((2,N))\n",
    "points[0,:] = np.linspace(0,2,N)\n",
    "points[1,:] = np.ones((1,N)) + np.random.rand(1,N)\n",
    "points[1,:] *= points[0,:]*points[0,:]\n",
    "pars = np.matrix([np.linspace(0,1,N)])"
   ]
  },
  {
   "cell_type": "markdown",
   "metadata": {
    "id": "Sm1vS49ws_Dx"
   },
   "source": [
    "We can inspect the points by plotting them"
   ]
  },
  {
   "cell_type": "code",
   "execution_count": null,
   "metadata": {},
   "outputs": [],
   "source": [
    "plt.scatter(points[0,:],points[1,:])\n",
    "plt.xlabel(\"$x$\")\n",
    "plt.ylabel(\"$y = x^2+Unif(0,1)$\")\n",
    "plt.show()"
   ]
  },
  {
   "cell_type": "markdown",
   "metadata": {
    "id": "oY3aEsGCt33h"
   },
   "source": [
    "Now we use the `gsFitting` class of `pygismo` to fit a curve through the created dataset. The fitting class takes as input the parameters, the points and a basis to be fitted on:"
   ]
  },
  {
   "cell_type": "code",
   "execution_count": null,
   "metadata": {},
   "outputs": [],
   "source": [
    "fitter = gs.modelling.gsFitting(pars,points,basis)"
   ]
  },
  {
   "cell_type": "markdown",
   "metadata": {
    "id": "X5-bjaqeuDqW"
   },
   "source": [
    "Then, the fit is computed by calling `compute()`"
   ]
  },
  {
   "cell_type": "code",
   "execution_count": null,
   "metadata": {},
   "outputs": [],
   "source": [
    "fitter.compute()"
   ]
  },
  {
   "cell_type": "markdown",
   "metadata": {
    "id": "bJBENKxGuGbS"
   },
   "source": [
    "And the result is obtained by calling `result()`."
   ]
  },
  {
   "cell_type": "code",
   "execution_count": null,
   "metadata": {},
   "outputs": [],
   "source": [
    "fit = fitter.result()"
   ]
  },
  {
   "cell_type": "markdown",
   "metadata": {
    "id": "ufri5uAKuJ7A"
   },
   "source": [
    "We can plot the result by constructing a parameter vector and by evaluating the fit, as we have seen before."
   ]
  },
  {
   "cell_type": "code",
   "execution_count": null,
   "metadata": {},
   "outputs": [],
   "source": [
    "x = np.linspace(0,1,100)\n",
    "x = np.meshgrid(x)\n",
    "y = fit.eval(x)\n",
    "\n",
    "plt.plot(y[0,:],y[1,:])\n",
    "plt.scatter(points[0,:],points[1,:])\n",
    "plt.xlabel(\"$x$\")\n",
    "plt.ylabel(\"$y = x^2+Unif(0,1)$\")\n",
    "plt.show()\n"
   ]
  },
  {
   "cell_type": "code",
   "execution_count": null,
   "metadata": {},
   "outputs": [],
   "source": []
  }
 ],
 "metadata": {
  "language_info": {
   "name": "python"
  }
 },
 "nbformat": 4,
 "nbformat_minor": 0
}
