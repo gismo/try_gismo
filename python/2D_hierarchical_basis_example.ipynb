{
 "cells": [
  {
   "cell_type": "markdown",
   "metadata": {
    "id": "NZlef0NNkKm9"
   },
   "source": [
    "# Import `pygismo` and other packages"
   ]
  },
  {
   "cell_type": "markdown",
   "metadata": {
    "id": "C6jPF7CRkW2R"
   },
   "source": [
    "We import `pygismo`"
   ]
  },
  {
   "cell_type": "code",
   "execution_count": null,
   "metadata": {},
   "outputs": [],
   "source": [
    "import pygismo as gs"
   ]
  },
  {
   "cell_type": "markdown",
   "metadata": {
    "id": "lypptSy8rAkh"
   },
   "source": [
    "We also import `numpy` and `matplotlib`"
   ]
  },
  {
   "cell_type": "code",
   "execution_count": null,
   "metadata": {},
   "outputs": [],
   "source": [
    "import numpy as np\n",
    "%matplotlib inline\n",
    "import matplotlib.pyplot as plt\n",
    "\n",
    "from matplotlib import cm\n",
    "from mpl_toolkits.mplot3d import axes3d"
   ]
  },
  {
   "cell_type": "markdown",
   "metadata": {
    "id": "ZSVucid1pNUN"
   },
   "source": [
    "# Constructing a 2D tensor B-spline basis"
   ]
  },
  {
   "cell_type": "markdown",
   "metadata": {
    "id": "5NfzNb2TozKh"
   },
   "source": [
    "A 2D B-spline basis is a *tensor-product* basis. This means that it has two knot vectors $\\Xi_u$ and $\\Xi_v$. In this case, we choose:\n",
    "\n",
    "$\\Xi_u = \\{0,0,0,0.25,0.50,0.75,1,1,1\\}$\n",
    "\n",
    "$\\Xi_v = \\{0,0,0,0,0.25,0.50,0.75,1,1,1,1\\}$\n"
   ]
  },
  {
   "cell_type": "code",
   "execution_count": null,
   "metadata": {},
   "outputs": [],
   "source": [
    "kv_u = gs.nurbs.gsKnotVector(np.array([0,0,0,0.25,0.50,0.75,1,1,1]),2)\n",
    "kv_v = gs.nurbs.gsKnotVector(np.array([0,0,0,0,0.25,0.50,0.75,1,1,1,1]),3)"
   ]
  },
  {
   "cell_type": "markdown",
   "metadata": {
    "id": "3XoQA8vz6CTj"
   },
   "source": [
    "Then, we define the tensor B-spline basis"
   ]
  },
  {
   "cell_type": "code",
   "execution_count": null,
   "metadata": {},
   "outputs": [],
   "source": [
    "tbasis = gs.nurbs.gsTensorBSplineBasis2(kv_u,kv_v)\n",
    "print('The basis has size: ', tbasis.size())"
   ]
  },
  {
   "cell_type": "markdown",
   "metadata": {
    "id": "xUJS35zQ6J4X"
   },
   "source": [
    "# Constructing a 2D Truncated Hierarchical B-spline basis"
   ]
  },
  {
   "cell_type": "markdown",
   "metadata": {
    "id": "7ijwGINd6RJz"
   },
   "source": [
    "To construct a Truncated Hierarchical B-spline basis, we simply intialize the `gsTHBSplineBasis2` using the tensor B-spline basis constructed before:"
   ]
  },
  {
   "cell_type": "code",
   "execution_count": null,
   "metadata": {},
   "outputs": [],
   "source": [
    "thbbasis = gs.hsplines.gsTHBSplineBasis2(tbasis)\n",
    "hbbasis = gs.hsplines.gsHBSplineBasis2(tbasis)"
   ]
  },
  {
   "cell_type": "markdown",
   "metadata": {
    "id": "6LpywUaG6c3r"
   },
   "source": [
    "This THB spline basis just has one level. If we want to perform a refinement, hence introduce functions from another level, we call `pygismo.hsplines.gsTHBSplineBasis2.refineElements`. This functions takes a list as argument, specified as follows:\n",
    "\n",
    "`box = [level,xlow,ylow,xupp,yupp]`\n",
    "\n",
    "Here, `level` is the level of the element to be inserted, (`xlow`,`ylow`) are the element indices of the lower corner and (`xupp`,`yupp`) are the element indices of the upper corner. These indices are ordered according to the knot vectors. The first unique knot has index 0, the second has index 1, and so forth.\n",
    "\n",
    "For example to refine the element in the upper-left and upper-left corners of our domain, we activate an element in level 1 with the indices corresponding to $2\\times$the element index in level 0:"
   ]
  },
  {
   "cell_type": "code",
   "execution_count": null,
   "metadata": {},
   "outputs": [],
   "source": [
    "thbbasis.refineElements([1,0,6,2,8])\n",
    "thbbasis.refineElements([1,6,0,8,2])\n",
    "\n",
    "thbbasis.refineElements([2,0,0,4,4])\n",
    "thbbasis.refineElements([2,14,14,16,16])\n",
    "\n",
    "print('The basis has size: ', thbbasis.size())"
   ]
  },
  {
   "cell_type": "markdown",
   "metadata": {
    "id": "exnjKTm670vP"
   },
   "source": [
    "# Plotting the basis in Paraview"
   ]
  },
  {
   "cell_type": "markdown",
   "metadata": {
    "id": "3KjxXKt58Jdg"
   },
   "source": [
    "We can plot the basis using Paraview, as done in the 2D basis example:"
   ]
  },
  {
   "cell_type": "code",
   "execution_count": null,
   "metadata": {},
   "outputs": [],
   "source": [
    "gs.io.gsWriteParaview(tbasis,\"output/tbasis\")"
   ]
  },
  {
   "cell_type": "code",
   "execution_count": null,
   "metadata": {},
   "outputs": [],
   "source": []
  }
 ],
 "metadata": {
  "language_info": {
   "name": "python"
  }
 },
 "nbformat": 4,
 "nbformat_minor": 0
}
