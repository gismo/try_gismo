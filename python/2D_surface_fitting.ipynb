{
 "cells": [
  {
   "cell_type": "markdown",
   "metadata": {
    "id": "NZlef0NNkKm9"
   },
   "source": [
    "# Import `pygismo` and other packages"
   ]
  },
  {
   "cell_type": "markdown",
   "metadata": {
    "id": "C6jPF7CRkW2R"
   },
   "source": [
    "We import `pygismo`"
   ]
  },
  {
   "cell_type": "code",
   "execution_count": null,
   "metadata": {},
   "outputs": [],
   "source": [
    "import pygismo as gs"
   ]
  },
  {
   "cell_type": "markdown",
   "metadata": {
    "id": "lypptSy8rAkh"
   },
   "source": [
    "We also import `numpy` and `matplotlib`"
   ]
  },
  {
   "cell_type": "code",
   "execution_count": null,
   "metadata": {},
   "outputs": [],
   "source": [
    "import numpy as np\n",
    "%matplotlib inline\n",
    "import matplotlib.pyplot as plt\n",
    "\n",
    "from matplotlib import cm\n",
    "from mpl_toolkits.mplot3d import axes3d"
   ]
  },
  {
   "cell_type": "markdown",
   "metadata": {
    "id": "ZSVucid1pNUN"
   },
   "source": [
    "# Constructing a 2D basis"
   ]
  },
  {
   "cell_type": "markdown",
   "metadata": {
    "id": "5NfzNb2TozKh"
   },
   "source": [
    "We use the same B-spline basis as in the previous example, with knot vectors:\n",
    "\n",
    "$\\Xi_u = \\Xi_v = \\{0,0,0,0.25,0.50,0.75,1,1,1\\}$\n"
   ]
  },
  {
   "cell_type": "code",
   "execution_count": null,
   "metadata": {},
   "outputs": [],
   "source": [
    "kv_u = kv_v = gs.nurbs.gsKnotVector(np.array([0,0,0,0.25,0.50,0.75,1,1,1]),2)\n",
    "tbasis = gs.nurbs.gsTensorBSplineBasis2(kv_u,kv_v)"
   ]
  },
  {
   "cell_type": "markdown",
   "metadata": {
    "id": "y--r7wS2_ACm"
   },
   "source": [
    "# Loading the point data"
   ]
  },
  {
   "cell_type": "markdown",
   "metadata": {
    "id": "M1M6kM96_Btn"
   },
   "source": [
    "The data for fitting is stored in two files: `shiphull_pars.csv` and `shiphull_points.csv`. We read them into `numpy.matrix` objects as follows:\n"
   ]
  },
  {
   "cell_type": "code",
   "execution_count": null,
   "metadata": {},
   "outputs": [],
   "source": [
    "pars   = np.loadtxt(\"filedata/shiphull_pars.csv\",delimiter=\",\")\n",
    "points = np.loadtxt(\"filedata/shiphull_points.csv\",delimiter=\",\")"
   ]
  },
  {
   "cell_type": "markdown",
   "metadata": {
    "id": "B4UJ5_Ai0W6f"
   },
   "source": [
    "# Fitting a surface through the point cloud"
   ]
  },
  {
   "cell_type": "markdown",
   "metadata": {
    "id": "wqKCCHiF0ZZD"
   },
   "source": [
    "As for the curve fitting problem, we use `pygismo.modelling.gsFitting` to solve the fitting problem:"
   ]
  },
  {
   "cell_type": "code",
   "execution_count": null,
   "metadata": {},
   "outputs": [],
   "source": [
    "fitter = gs.modelling.gsFitting(pars,points,tbasis)"
   ]
  },
  {
   "cell_type": "markdown",
   "metadata": {
    "id": "X5-bjaqeuDqW"
   },
   "source": [
    "Then, the fit is computed by calling `compute()`"
   ]
  },
  {
   "cell_type": "code",
   "execution_count": null,
   "metadata": {},
   "outputs": [],
   "source": [
    "fitter.compute()"
   ]
  },
  {
   "cell_type": "markdown",
   "metadata": {
    "id": "bJBENKxGuGbS"
   },
   "source": [
    "And the result is obtained by calling `result()`."
   ]
  },
  {
   "cell_type": "code",
   "execution_count": null,
   "metadata": {},
   "outputs": [],
   "source": [
    "fit = fitter.result()\n",
    "\n",
    "print(fit.coefs())"
   ]
  },
  {
   "cell_type": "code",
   "execution_count": null,
   "metadata": {},
   "outputs": [],
   "source": [
    "predictions = fit.eval(pars)\n",
    "mse = ((predictions - points) ** 2).mean()\n",
    "print(mse)"
   ]
  },
  {
   "cell_type": "markdown",
   "metadata": {
    "id": "ZaVTbjw1BHit"
   },
   "source": [
    "# Plotting the result in Python"
   ]
  },
  {
   "cell_type": "markdown",
   "metadata": {
    "id": "9jqdLtihBJ61"
   },
   "source": [
    "Now we plot the result using `matplotlib`. The plotting procedure is as in the other examples, i.e. we use a `numpy.meshgrid` to define our evaluation points:"
   ]
  },
  {
   "cell_type": "code",
   "execution_count": null,
   "metadata": {},
   "outputs": [],
   "source": [
    "N = M = 100\n",
    "x = np.linspace(0,1,N)\n",
    "y = np.linspace(0,1,M)\n",
    "\n",
    "XX, YY = np.meshgrid(x,y,indexing='xy')\n",
    "pts = np.stack((XX.flatten(),YY.flatten()))\n",
    "\n",
    "S = fit.eval(pts)\n",
    "XX = S[0,:].reshape((N,M))\n",
    "YY = S[1,:].reshape((N,M))\n",
    "ZZ = S[2,:].reshape((N,M))\n",
    "\n",
    "fig = plt.figure()\n",
    "ax = fig.add_subplot(projection ='3d')\n",
    "ax.plot_surface(XX,YY,ZZ,cmap=cm.coolwarm)\n",
    "ax.scatter(points[0,:],points[1,:],points[2,:],color=\"red\")\n",
    "\n",
    "ax.axis('equal')\n",
    "ax.axis('off')\n",
    "\n",
    "fig.tight_layout()\n",
    "plt.show()"
   ]
  },
  {
   "cell_type": "markdown",
   "metadata": {
    "id": "Z9SfTNf84W4a"
   },
   "source": [
    "# Plotting the result in Paraview"
   ]
  },
  {
   "cell_type": "markdown",
   "metadata": {
    "id": "8puFzdwI4ZF9"
   },
   "source": [
    "Alternatively, we can use Paraview to plot our surface. We simply use `pygismo`'s buit-in functionality"
   ]
  },
  {
   "cell_type": "code",
   "execution_count": null,
   "metadata": {},
   "outputs": [],
   "source": [
    "gs.io.gsWriteParaview(fit,\"output/fit\")\n",
    "pointsT = points.T\n",
    "gs.io.gsWriteParaviewPoints(np.matrix(pointsT[:,0]),np.matrix(pointsT[0,:]),np.matrix(pointsT[0,:]),\"output/points\")"
   ]
  },
  {
   "cell_type": "markdown",
   "metadata": {
    "id": "4uBmrqPH4nro"
   },
   "source": [
    "This creates the files `surf0.vts` and `surf.pvd`. When we open `surf.pvd` in paraview, we see the surface."
   ]
  }
 ],
 "metadata": {
  "language_info": {
   "name": "python"
  }
 },
 "nbformat": 4,
 "nbformat_minor": 0
}
