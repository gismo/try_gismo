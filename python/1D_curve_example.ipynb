{
 "cells": [
  {
   "cell_type": "markdown",
   "metadata": {
    "id": "NZlef0NNkKm9"
   },
   "source": [
    "# Import `pygismo` and other packages"
   ]
  },
  {
   "cell_type": "markdown",
   "metadata": {
    "id": "C6jPF7CRkW2R"
   },
   "source": [
    "We import `pygismo`"
   ]
  },
  {
   "cell_type": "code",
   "execution_count": null,
   "metadata": {},
   "outputs": [],
   "source": [
    "import pygismo as gs"
   ]
  },
  {
   "cell_type": "markdown",
   "metadata": {
    "id": "lypptSy8rAkh"
   },
   "source": [
    "We also import `numpy` and `matplotlib`"
   ]
  },
  {
   "cell_type": "code",
   "execution_count": null,
   "metadata": {},
   "outputs": [],
   "source": [
    "import numpy as np\n",
    "%matplotlib inline\n",
    "import matplotlib.pyplot as plt"
   ]
  },
  {
   "cell_type": "markdown",
   "metadata": {
    "id": "ZSVucid1pNUN"
   },
   "source": [
    "# Constructing a 1D basis"
   ]
  },
  {
   "cell_type": "markdown",
   "metadata": {
    "id": "5NfzNb2TozKh"
   },
   "source": [
    "Similar to the `1D_basis_example.ipynb`, we construct a B-spline basis with knot vector Ξ = { 0, 0, 0, 0.25, 0.50, 0.75, 1, 1, 1 }."
   ]
  },
  {
   "cell_type": "code",
   "execution_count": null,
   "metadata": {},
   "outputs": [],
   "source": [
    "kv = gs.nurbs.gsKnotVector(np.array([0,0,0,0.25,0.50,0.75,1,1,1]),2)\n",
    "basis = gs.nurbs.gsBSplineBasis(kv)\n",
    "\n",
    "print('The knots of the basis are:\\n',basis.knots(0).get())\n",
    "print('The size of the basis is: ',basis.size())"
   ]
  },
  {
   "cell_type": "markdown",
   "metadata": {
    "id": "sEpDBaWI7VUE"
   },
   "source": [
    "# Constructing a 2D curve"
   ]
  },
  {
   "cell_type": "markdown",
   "metadata": {
    "id": "EftoexOj6OAS"
   },
   "source": [
    "Given the 1D B-spline basis, we are going to construct a curve. A B-spline curve $\\mathcal{C}:\\mathbb{R}\\to\\mathbb{R}^d$ is defined as:\n",
    "\n",
    "$\\mathcal{C}(\\xi) = \\sum_{k=0}^N \\varphi_k(\\xi)\\mathbf{B}_k$,\n",
    "\n",
    "where $\\varphi_k(\\xi)$, $k=0,\\dots,N$ is the $k^{\\text{th}}$ basis function and $\\mathbf{B}_k$ is $d$-dimensional vector representing the $k^{\\text{th}}$ control point."
   ]
  },
  {
   "cell_type": "markdown",
   "metadata": {
    "id": "c0H8WmP78Vy2"
   },
   "source": [
    "To define our curve, we define the control points in a matrix, with $d$ columns and $N$ rows:"
   ]
  },
  {
   "cell_type": "code",
   "execution_count": null,
   "metadata": {},
   "outputs": [],
   "source": [
    "coefs = np.zeros((basis.size(),2))"
   ]
  },
  {
   "cell_type": "markdown",
   "metadata": {
    "id": "wT3bl-4g8eKC"
   },
   "source": [
    "For the sake of simplicity, we assign linearly increasing values in both columns of the matrix of control points"
   ]
  },
  {
   "cell_type": "code",
   "execution_count": null,
   "metadata": {},
   "outputs": [],
   "source": [
    "coefs[:,0] = np.array([0,1,1,2,2,3])\n",
    "coefs[:,1] = np.array([0,0,1,1,2,2])"
   ]
  },
  {
   "cell_type": "markdown",
   "metadata": {
    "id": "fKzLfp8C8mpu"
   },
   "source": [
    "Having the control points and the basis, we can define a B-spline curve using `pygismo.nurbs.gsBSpline`:"
   ]
  },
  {
   "cell_type": "code",
   "execution_count": null,
   "metadata": {},
   "outputs": [],
   "source": [
    "curve = gs.nurbs.gsBSpline(basis,coefs)"
   ]
  },
  {
   "cell_type": "markdown",
   "metadata": {
    "id": "jJC351Hj9hg2"
   },
   "source": [
    "By using `pygismo.nurbs.gsBSpline.coefs`, the coefficients of the B-spline curve can be accessed. This can be used to change the coefficients as well!"
   ]
  },
  {
   "cell_type": "code",
   "execution_count": null,
   "metadata": {},
   "outputs": [],
   "source": [
    "print('The coefficients of the B-spline are:\\n',curve.coefs())"
   ]
  },
  {
   "cell_type": "markdown",
   "metadata": {
    "id": "091ZbR_z8s-K"
   },
   "source": [
    "# Plotting the curve"
   ]
  },
  {
   "cell_type": "markdown",
   "metadata": {
    "id": "2x68DgKt8vWM"
   },
   "source": [
    "As in the previous example, we can define a 1D `numpy.meshgrid` of parametric coordinates. The B-spline curve is evaluated by calling `pygismo.nurbs.gsBSpline.eval`"
   ]
  },
  {
   "cell_type": "code",
   "execution_count": null,
   "metadata": {},
   "outputs": [],
   "source": [
    "N = 100\n",
    "x = np.linspace(0,1,N)\n",
    "x = np.matrix(np.meshgrid(x))\n",
    "y = curve.eval(x)"
   ]
  },
  {
   "cell_type": "markdown",
   "metadata": {
    "id": "pTl5nYlS85cK"
   },
   "source": [
    "The curve is then plotted by plotting the *rows* of our evaluation.\n",
    "\n",
    "**Remember**: `pygismo` uses the convention of having every evaluation point in a column."
   ]
  },
  {
   "cell_type": "code",
   "execution_count": null,
   "metadata": {},
   "outputs": [],
   "source": [
    "plt.plot(y[0,:],y[1,:])\n",
    "plt.scatter(curve.coefs()[:,0],curve.coefs()[:,1])\n",
    "plt.xlabel(r'$x$')\n",
    "plt.ylabel(r'$y$')\n",
    "plt.show()"
   ]
  },
  {
   "cell_type": "markdown",
   "metadata": {
    "id": "ghNFfUyy9_bZ"
   },
   "source": [
    "# Modifying the curve"
   ]
  },
  {
   "cell_type": "markdown",
   "metadata": {
    "id": "HgCK0lCd-BYS"
   },
   "source": [
    "Having the curve defined, we can modify it. We can simply change the control points using `pygismo.nurbs.gsBSpline.coefs`. For example, we move the second control point to $(0,1)$"
   ]
  },
  {
   "cell_type": "code",
   "execution_count": null,
   "metadata": {},
   "outputs": [],
   "source": [
    "curve.coefs()[1,0] = 0\n",
    "curve.coefs()[1,1] = 1"
   ]
  },
  {
   "cell_type": "markdown",
   "metadata": {
    "id": "0BOntzRk-Ooz"
   },
   "source": [
    "And we plot it"
   ]
  },
  {
   "cell_type": "code",
   "execution_count": null,
   "metadata": {},
   "outputs": [],
   "source": [
    "y = curve.eval(x)\n",
    "plt.scatter(curve.coefs()[:,0],curve.coefs()[:,1])\n",
    "plt.plot(y[0,:],y[1,:])\n",
    "plt.xlabel(r'$x$')\n",
    "plt.ylabel(r'$y$')\n",
    "plt.show()"
   ]
  },
  {
   "cell_type": "markdown",
   "metadata": {
    "id": "mXJ948iBA1ld"
   },
   "source": [
    "# Reading a curve from a file [Fails]"
   ]
  },
  {
   "cell_type": "markdown",
   "metadata": {
    "id": "iPra8H5LzbEl"
   },
   "source": [
    "An alternative way of defining a curve in `pygismo`, is to read it from an XML file. G+Smo natively uses XML as a format to read and write data.\n",
    "\n",
    "Now, you can use the file browser (on the right) to find the path of the file `curve_example` and use that to define the `filename`. Using `gsFileData`, we can read the file."
   ]
  },
  {
   "cell_type": "code",
   "execution_count": null,
   "metadata": {},
   "outputs": [],
   "source": [
    "filename = \"filedata/curve_example.xml\"\n",
    "filedata = gs.io.gsFileData(filename)"
   ]
  },
  {
   "cell_type": "markdown",
   "metadata": {
    "id": "-jFPl4_lz3Pl"
   },
   "source": [
    "The curve is stored with id 0 in the file. Hence, to read it into an object, we do"
   ]
  },
  {
   "cell_type": "code",
   "execution_count": null,
   "metadata": {},
   "outputs": [],
   "source": [
    "XMLcurve = gs.nurbs.gsBSpline()\n",
    "filedata.getId(0,XMLcurve)"
   ]
  },
  {
   "cell_type": "markdown",
   "metadata": {
    "id": "d3hGBDFD0CHX"
   },
   "source": [
    "Using the same plotting commands as before, we can plot the result"
   ]
  },
  {
   "cell_type": "code",
   "execution_count": null,
   "metadata": {},
   "outputs": [],
   "source": [
    "y = XMLcurve.eval(x)\n",
    "plt.scatter(XMLcurve.coefs()[:,0],XMLcurve.coefs()[:,1])\n",
    "plt.plot(y[0,:],y[1,:])\n",
    "plt.xlabel(r'$x$')\n",
    "plt.ylabel(r'$y$')\n",
    "plt.show()"
   ]
  },
  {
   "cell_type": "code",
   "execution_count": null,
   "metadata": {},
   "outputs": [],
   "source": []
  }
 ],
 "metadata": {
  "language_info": {
   "name": "python"
  }
 },
 "nbformat": 4,
 "nbformat_minor": 0
}
