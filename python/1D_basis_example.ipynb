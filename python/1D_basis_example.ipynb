{
 "cells": [
  {
   "cell_type": "markdown",
   "metadata": {
    "id": "NZlef0NNkKm9"
   },
   "source": [
    "#  Import `pygismo` and other packages"
   ]
  },
  {
   "cell_type": "markdown",
   "metadata": {
    "id": "C6jPF7CRkW2R"
   },
   "source": [
    "We import `pygismo`"
   ]
  },
  {
   "cell_type": "code",
   "execution_count": null,
   "metadata": {},
   "outputs": [],
   "source": [
    "import pygismo as gs"
   ]
  },
  {
   "cell_type": "markdown",
   "metadata": {
    "id": "lypptSy8rAkh"
   },
   "source": [
    "We also import `numpy` and `matplotlib`"
   ]
  },
  {
   "cell_type": "code",
   "execution_count": null,
   "metadata": {},
   "outputs": [],
   "source": [
    "import numpy as np\n",
    "%matplotlib inline\n",
    "import matplotlib.pyplot as plt"
   ]
  },
  {
   "cell_type": "markdown",
   "metadata": {
    "id": "ZSVucid1pNUN"
   },
   "source": [
    "# Constructing a 1D basis"
   ]
  },
  {
   "cell_type": "markdown",
   "metadata": {
    "id": "5NfzNb2TozKh"
   },
   "source": [
    "A B-spline basis is constructed via a *knot vector* Ξ.\n",
    "\n",
    "In this example, we choose Ξ = { 0, 0, 0, 0.25, 0.50, 0.75, 1, 1, 1 }.\n",
    "\n",
    "In `pygismo`, a knot vector is defined in the `pygismo.nurbs.gsKnotVector` class, which uses a `numpy.vector` as input."
   ]
  },
  {
   "cell_type": "code",
   "execution_count": null,
   "metadata": {},
   "outputs": [],
   "source": [
    "kv = gs.nurbs.gsKnotVector(np.array([0,0,0,0.25,0.50,0.75,1,1,1]),2)"
   ]
  },
  {
   "cell_type": "markdown",
   "metadata": {
    "id": "pj209TQ5riix"
   },
   "source": [
    "If you try to print the knot vector `kv`, you will get information on the type (`pygismo.nurbs.gsKnotVector`) and the memory address (e.g. `0x7e6a3f8390f0`)"
   ]
  },
  {
   "cell_type": "code",
   "execution_count": null,
   "metadata": {},
   "outputs": [],
   "source": [
    "print(kv)"
   ]
  },
  {
   "cell_type": "markdown",
   "metadata": {
    "id": "GFS0f6H_s0ud"
   },
   "source": [
    "However, you can print the knots as follows:"
   ]
  },
  {
   "cell_type": "code",
   "execution_count": null,
   "metadata": {},
   "outputs": [],
   "source": [
    "print('The knots in the knot vector are:\\n',kv.get())"
   ]
  },
  {
   "cell_type": "markdown",
   "metadata": {
    "id": "t0AG5gFjtPQk"
   },
   "source": [
    "As soon as we have a knot vector, we can construct a B-spline basis from it. The B-spline basis is available in `pygismo.nurbs.gsBSplineBasis`"
   ]
  },
  {
   "cell_type": "code",
   "execution_count": null,
   "metadata": {},
   "outputs": [],
   "source": [
    "basis = gs.nurbs.gsBSplineBasis(kv)"
   ]
  },
  {
   "cell_type": "markdown",
   "metadata": {
    "id": "9c2XI6PCtw-M"
   },
   "source": [
    "Since B-spline basis can have different dimensions, the knots of the basis can be obtained by calling the knots in the 0th direction"
   ]
  },
  {
   "cell_type": "code",
   "execution_count": null,
   "metadata": {},
   "outputs": [],
   "source": [
    "print('The knots of the basis are:\\n',basis.knots(0).get())"
   ]
  },
  {
   "cell_type": "markdown",
   "metadata": {
    "id": "bwEPNDqguf1P"
   },
   "source": [
    "Furthermore, the size of the basis is simply obtained by"
   ]
  },
  {
   "cell_type": "code",
   "execution_count": null,
   "metadata": {},
   "outputs": [],
   "source": [
    "print('The size of the basis is: ',basis.size())"
   ]
  },
  {
   "cell_type": "markdown",
   "metadata": {
    "id": "v12NIHvyupk8"
   },
   "source": [
    "**Question:** Can you verify the size of the basis?"
   ]
  },
  {
   "cell_type": "markdown",
   "metadata": {
    "id": "o1n5-KVcuPuU"
   },
   "source": [
    "# Basis computations"
   ]
  },
  {
   "cell_type": "markdown",
   "metadata": {
    "id": "DGCRsQkDwNGC"
   },
   "source": [
    "**Note**: the evaluation functions require the evaluation coordinates to be passed as a matrix and not as a vector. Every column of the matrix corresponds to an evaluation point.\n",
    "\n",
    "For the 1D basis, we create an array of evaluation points via `numpy.linspace` and transform it into a 1D `numpy.meshgrid`"
   ]
  },
  {
   "cell_type": "code",
   "execution_count": null,
   "metadata": {},
   "outputs": [],
   "source": [
    "N = 100\n",
    "x = np.linspace(0,1,N)\n",
    "x = np.matrix(np.meshgrid(x))\n",
    "y = basis.evalSingle(0,x)"
   ]
  },
  {
   "cell_type": "markdown",
   "metadata": {
    "id": "yaXZC4qvwoJj"
   },
   "source": [
    "Now we evaluate all basis functions in different rows of an array; every row represents an evaluation of a basis functions, with the columns the value at each point."
   ]
  },
  {
   "cell_type": "code",
   "execution_count": null,
   "metadata": {},
   "outputs": [],
   "source": [
    "eval = np.zeros((basis.size(),N))\n",
    "for fun in range(0,basis.size()):\n",
    "    eval[fun,:] = basis.evalSingle(fun,x)"
   ]
  },
  {
   "cell_type": "markdown",
   "metadata": {
    "id": "R0jqjRAw1ZK9"
   },
   "source": [
    "To plot the basis from G+Smo, we simply plot the transpose of everything"
   ]
  },
  {
   "cell_type": "code",
   "execution_count": null,
   "metadata": {},
   "outputs": [],
   "source": [
    "plt.plot(x.T,eval.T)\n",
    "plt.xlabel(r'$\\xi$')\n",
    "plt.ylabel(r'$\\varphi$')\n",
    "plt.show()"
   ]
  },
  {
   "cell_type": "markdown",
   "metadata": {
    "id": "n_bVJioS1pF4"
   },
   "source": [
    "**Note**: `pygismo` can also evaluate functions using `basis.eval(points)`. However, this returns only the *non-zero* basis functions, and not all basis functions."
   ]
  },
  {
   "cell_type": "code",
   "execution_count": null,
   "metadata": {},
   "outputs": [],
   "source": []
  },
  {
   "cell_type": "markdown",
   "metadata": {
    "id": "tybQIl3116-s"
   },
   "source": [
    "# Knot insertion\n"
   ]
  },
  {
   "cell_type": "markdown",
   "metadata": {
    "id": "2rPSqJH341PR"
   },
   "source": [
    "We can insert knots in the knot vector using `pygismo.nurbs.gsKnotVector.insert(value,multiplicity)`. This inserts a knot with `value`, `multiplicity` times."
   ]
  },
  {
   "cell_type": "code",
   "execution_count": null,
   "metadata": {},
   "outputs": [],
   "source": [
    "newkv = gs.nurbs.gsKnotVector(np.array([0,0,0,0.25,0.50,0.75,1,1,1]),2)\n",
    "newkv.insert(0.5,2)\n",
    "newbasis = gs.nurbs.gsBSplineBasis(newkv)\n",
    "\n",
    "# basis.knots(0).insert(0.5,1)\n",
    "print('The knots of the basis are:\\n',newbasis.knots(0).get())\n",
    "print('The size of the basis is: ',newbasis.size())"
   ]
  },
  {
   "cell_type": "markdown",
   "metadata": {
    "id": "ZtDmlwxv5GpX"
   },
   "source": [
    "The new basis can be plotted"
   ]
  },
  {
   "cell_type": "code",
   "execution_count": null,
   "metadata": {},
   "outputs": [],
   "source": [
    "eval = np.zeros((newbasis.size(),N))\n",
    "for fun in range(0,newbasis.size()):\n",
    "    eval[fun,:] = newbasis.evalSingle(fun,x)\n",
    "\n",
    "plt.plot(x.T,eval.T)\n",
    "plt.xlabel(r'$\\xi$')\n",
    "plt.ylabel(r'$\\varphi$')\n",
    "plt.show()"
   ]
  },
  {
   "cell_type": "code",
   "execution_count": null,
   "metadata": {},
   "outputs": [],
   "source": []
  }
 ],
 "metadata": {
  "language_info": {
   "name": "python"
  }
 },
 "nbformat": 4,
 "nbformat_minor": 0
}
