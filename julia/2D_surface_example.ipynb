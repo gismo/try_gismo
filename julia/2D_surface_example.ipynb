{
 "cells": [
  {
   "cell_type": "markdown",
   "metadata": {},
   "source": [
    "# Import `Gismo.jl` and other packages"
   ]
  },
  {
   "cell_type": "markdown",
   "metadata": {},
   "source": [
    "We import `Gismo.jl`\n"
   ]
  },
  {
   "cell_type": "code",
   "execution_count": null,
   "metadata": {},
   "outputs": [],
   "source": [
    "using Gismo\n",
    "using Plots"
   ]
  },
  {
   "cell_type": "markdown",
   "metadata": {
    "id": "ZSVucid1pNUN"
   },
   "source": [
    "# Constructing a 2D basis"
   ]
  },
  {
   "cell_type": "markdown",
   "metadata": {
    "id": "5NfzNb2TozKh"
   },
   "source": [
    "We use the same B-spline basis as in the previous example, with knot vectors:\n",
    "\n",
    "$\\Xi_u = \\Xi_v = \\{0,0,0,0.25,0.50,0.75,1,1,1\\}$\n"
   ]
  },
  {
   "cell_type": "code",
   "execution_count": null,
   "metadata": {},
   "outputs": [],
   "source": [
    "kv_u = kv_v = KnotVector([0,0,0,0.25,0.50,0.75,1,1,1]);"
   ]
  },
  {
   "cell_type": "code",
   "execution_count": null,
   "metadata": {},
   "outputs": [],
   "source": [
    "tbasis = TensorBSplineBasis(kv_u, kv_v);"
   ]
  },
  {
   "cell_type": "markdown",
   "metadata": {
    "id": "B4UJ5_Ai0W6f"
   },
   "source": [
    "# Definining a surface"
   ]
  },
  {
   "cell_type": "markdown",
   "metadata": {
    "id": "wqKCCHiF0ZZD"
   },
   "source": [
    "Similar to defining a curve, we define a matrix of control points to construct a surface. For a basis of size $N$, the coefficient matrix is defined as an $N\\times d$ matrix, with $d$ the geometric dimension. Furthermore, we initialize the coefficient matrix with $N\\times d$ zeros.\n",
    "\n",
    "Since our basis is composed of the same knot vector in both directions, the number of functions in each direction is $n=\\sqrt{N}$."
   ]
  },
  {
   "cell_type": "code",
   "execution_count": null,
   "metadata": {},
   "outputs": [],
   "source": [
    "coefficients = zeros(size(tbasis),3);\n",
    "n = Int(sqrt(size(tbasis)));"
   ]
  },
  {
   "cell_type": "markdown",
   "metadata": {
    "id": "2iohz0pO1EHW"
   },
   "source": [
    "Then, we define the control points in a uniformly spaced grid. We use the tensor product with a vector of ones for this:"
   ]
  },
  {
   "cell_type": "code",
   "execution_count": null,
   "metadata": {},
   "outputs": [],
   "source": [
    "x = y = range(0,stop=1.0,length=n);\n",
    "X = (x' .* ones(n));\n",
    "Y = (y' .* ones(n))';\n",
    "coefficients[:,1] = reduce(vcat,X);\n",
    "coefficients[:,2] = reduce(vcat,Y);"
   ]
  },
  {
   "cell_type": "markdown",
   "metadata": {
    "id": "LZR-AeNl1QU2"
   },
   "source": [
    "Since the coefficient matrix is initialized with zeros, we modify a few coefficients to displace the points out-of-plane."
   ]
  },
  {
   "cell_type": "code",
   "execution_count": null,
   "metadata": {},
   "outputs": [],
   "source": [
    "coefficients[12,3] = -1\n",
    "coefficients[16,3] = 1\n",
    "coefficients[22,3] = -1\n",
    "coefficients[26,3] = 10"
   ]
  },
  {
   "cell_type": "markdown",
   "metadata": {
    "id": "7Bw0qAH91iQL"
   },
   "source": [
    "Having defined the coefficient matrix, we can make a tensor B-splne surface using the basis and the coefficient matrix."
   ]
  },
  {
   "cell_type": "code",
   "execution_count": null,
   "metadata": {},
   "outputs": [],
   "source": [
    "surf = TensorBSpline(tbasis,coefficients);"
   ]
  },
  {
   "cell_type": "markdown",
   "metadata": {
    "id": "JHvtIeGe1pNQ"
   },
   "source": [
    "# Plotting the 3D surface"
   ]
  },
  {
   "cell_type": "markdown",
   "metadata": {
    "id": "qHb9stvt1-B9"
   },
   "source": [
    "As always, we start by creating a set of parametric points. Here, they stored in `x` and `y`, on their turn used to construct a \"mesh grid\", described by `XX` and `YY`. The grid is used to create a matrix of parametric points to evaluate the surface on. The matrix stores the points as columns."
   ]
  },
  {
   "cell_type": "code",
   "execution_count": null,
   "metadata": {},
   "outputs": [],
   "source": [
    "N = M = 100;\n",
    "x = range(0,stop=1,length=N);\n",
    "y = range(0,stop=1,length=M);\n",
    "XX = (x' .* ones(M))';\n",
    "YY = (y' .* ones(N));\n",
    "pts = vcat(reduce(vcat,XX)',reduce(vcat,YY)');"
   ]
  },
  {
   "cell_type": "markdown",
   "metadata": {
    "id": "ua76rgx92T1J"
   },
   "source": [
    "The surface is simply evaluated using `val`, and the result is properly reshaped into the format of the mesh grid:"
   ]
  },
  {
   "cell_type": "code",
   "execution_count": null,
   "metadata": {},
   "outputs": [],
   "source": [
    "S = asMatrix(val(surf,pts));\n",
    "ZZ = reshape(S[3,:],(N,M));"
   ]
  },
  {
   "cell_type": "markdown",
   "metadata": {
    "id": "SMh7ct1-2fsP"
   },
   "source": [
    "Then, we plot the surface and its control points"
   ]
  },
  {
   "cell_type": "code",
   "execution_count": null,
   "metadata": {},
   "outputs": [],
   "source": [
    "p = plot();\n",
    "surface!(XX,YY,ZZ)\n",
    "# scatter!(coefficients[:,1],coefficients[:,2],coefficients[:,3])\n",
    "display(p)"
   ]
  },
  {
   "cell_type": "markdown",
   "metadata": {
    "id": "wkN-lZ9u2lx3"
   },
   "source": [
    "# Reading a surface from a file"
   ]
  },
  {
   "cell_type": "markdown",
   "metadata": {
    "id": "lLiMPTlB2-Vg"
   },
   "source": [
    "As for the curve example, we can read the surface from XML."
   ]
  },
  {
   "cell_type": "code",
   "execution_count": null,
   "metadata": {},
   "outputs": [],
   "source": [
    "path = joinpath(@__DIR__,\"filedata/sphere.xml\");\n",
    "XMLSurf = Geometry(path);\n",
    "XMLcoefs = copy(asMatrix(coefs(XMLSurf)));"
   ]
  },
  {
   "cell_type": "markdown",
   "metadata": {
    "id": "d3hGBDFD0CHX"
   },
   "source": [
    "Using the same plotting commands as before, we can plot the result"
   ]
  },
  {
   "cell_type": "code",
   "execution_count": null,
   "metadata": {},
   "outputs": [],
   "source": [
    "N = M = 100;\n",
    "x = range(0,stop=1,length=N);\n",
    "y = range(0,stop=1,length=M);\n",
    "XX = (x' .* ones(M))';\n",
    "YY = (y' .* ones(N));\n",
    "pts = vcat(reduce(vcat,XX)',reduce(vcat,YY)');\n",
    "\n",
    "S = asMatrix(val(XMLSurf,pts));\n",
    "XX = reshape(S[1,:],(N,M));\n",
    "YY = reshape(S[2,:],(N,M));\n",
    "ZZ = reshape(S[3,:],(N,M));\n",
    "\n",
    "p = plot();\n",
    "surface!(XX,YY,ZZ)\n",
    "# scatter!(XMLcoefs[:,1],XMLcoefs[:,2],XMLcoefs[:,3])\n",
    "display(p)"
   ]
  }
 ],
 "metadata": {
  "language_info": {
   "name": "julia"
  }
 },
 "nbformat": 4,
 "nbformat_minor": 0
}
