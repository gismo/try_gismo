{
 "cells": [
  {
   "cell_type": "markdown",
   "id": "d31b22f6",
   "metadata": {},
   "source": [
    "# Import `Gismo.jl` and other packages"
   ]
  },
  {
   "cell_type": "markdown",
   "id": "a8785166",
   "metadata": {},
   "source": [
    "We import `Gismo.jl`"
   ]
  },
  {
   "cell_type": "code",
   "execution_count": null,
   "id": "251392be",
   "metadata": {},
   "outputs": [],
   "source": [
    "using Gismo"
   ]
  },
  {
   "cell_type": "markdown",
   "id": "35902381",
   "metadata": {},
   "source": [
    "Constructing a 1D basis"
   ]
  },
  {
   "cell_type": "code",
   "execution_count": null,
   "id": "30131c65",
   "metadata": {},
   "outputs": [],
   "source": [
    "kv = Gismo.KnotVector([0,0,0,0.25,0.50,0.75,1,1,1])\n"
   ]
  },
  {
   "cell_type": "code",
   "execution_count": null,
   "id": "4262948e",
   "metadata": {},
   "outputs": [],
   "source": [
    "print(kv)"
   ]
  },
  {
   "cell_type": "code",
   "execution_count": null,
   "id": "2068dd9a",
   "metadata": {},
   "outputs": [],
   "source": [
    "basis = Gismo.BSplineBasis(kv)"
   ]
  },
  {
   "cell_type": "markdown",
   "id": "66bf2d29",
   "metadata": {},
   "source": []
  },
  {
   "cell_type": "code",
   "execution_count": null,
   "id": "2a915a5e",
   "metadata": {},
   "outputs": [],
   "source": [
    "Gismo.size(basis)"
   ]
  },
  {
   "cell_type": "code",
   "execution_count": null,
   "id": "89229ae7",
   "metadata": {},
   "outputs": [],
   "source": []
  }
 ],
 "metadata": {
  "language_info": {
   "name": "julia"
  }
 },
 "nbformat": 4,
 "nbformat_minor": 5
}
