{
 "cells": [
  {
   "cell_type": "markdown",
   "id": "d31b22f6",
   "metadata": {},
   "source": [
    "# Import `Gismo.jl` and other packages"
   ]
  },
  {
   "cell_type": "markdown",
   "id": "a8785166",
   "metadata": {},
   "source": [
    "We import `Gismo.jl`"
   ]
  },
  {
   "cell_type": "code",
   "execution_count": null,
   "id": "251392be",
   "metadata": {},
   "outputs": [],
   "source": [
    "using Gismo\n",
    "using Plots"
   ]
  },
  {
   "cell_type": "markdown",
   "id": "99397ea6",
   "metadata": {},
   "source": [
    "# Constructing a 1D basis"
   ]
  },
  {
   "cell_type": "markdown",
   "id": "c731db75",
   "metadata": {},
   "source": [
    "A B-spline basis is constructed via a *knot vector* Ξ.\n",
    "\n",
    "In this example, we choose Ξ = { 0, 0, 0, 0.25, 0.50, 0.75, 1, 1, 1 }.\n",
    "\n",
    "In `Gismo.jl`, a knot vector is constructed using the `KnotVector` function, which uses an array as input."
   ]
  },
  {
   "cell_type": "code",
   "execution_count": null,
   "id": "30131c65",
   "metadata": {},
   "outputs": [],
   "source": [
    "kv = KnotVector([0,0,0,0.25,0.50,0.75,1,1,1]);"
   ]
  },
  {
   "cell_type": "markdown",
   "id": "7888c517",
   "metadata": {},
   "source": [
    "We can print the knots as follows:"
   ]
  },
  {
   "cell_type": "code",
   "execution_count": null,
   "id": "4262948e",
   "metadata": {},
   "outputs": [],
   "source": [
    "print(\"The knots in the knot vector are:\\n\",kv)"
   ]
  },
  {
   "cell_type": "markdown",
   "id": "66bf2d29",
   "metadata": {},
   "source": [
    "As soon as we have a knot vector, we can construct a B-spline basis from it. The B-spline basis is constructed with `BSplineBasis`"
   ]
  },
  {
   "cell_type": "code",
   "execution_count": null,
   "id": "2068dd9a",
   "metadata": {},
   "outputs": [],
   "source": [
    "basis = Gismo.BSplineBasis(kv);"
   ]
  },
  {
   "cell_type": "markdown",
   "id": "069a203d",
   "metadata": {},
   "source": [
    "Since B-spline basis can have different dimensions, the knots of the basis can be obtained by calling the knots in the 0th direction"
   ]
  },
  {
   "cell_type": "code",
   "execution_count": null,
   "id": "aad540ae",
   "metadata": {},
   "outputs": [],
   "source": [
    "print(\"The knots of the basis are:\\n\",knots(basis,0));"
   ]
  },
  {
   "cell_type": "markdown",
   "id": "a3f1a35a",
   "metadata": {},
   "source": [
    "Furthermore, the size of the basis is simply obtained by"
   ]
  },
  {
   "cell_type": "code",
   "execution_count": null,
   "id": "2a915a5e",
   "metadata": {},
   "outputs": [],
   "source": [
    "print(\"The size of the basis is: \",size(basis));"
   ]
  },
  {
   "cell_type": "markdown",
   "id": "1a8a16e9",
   "metadata": {},
   "source": [
    "**Question:** Can you verify the size of the basis?"
   ]
  },
  {
   "cell_type": "markdown",
   "id": "d3b9b741",
   "metadata": {},
   "source": [
    "# Basis computations"
   ]
  },
  {
   "cell_type": "markdown",
   "id": "4364d948",
   "metadata": {},
   "source": [
    "**Note**: the evaluation functions require the evaluation coordinates to be passed as a matrix and not as a vector. Every column of the matrix corresponds to an evaluation point.\n",
    "\n",
    "For the 1D basis, we create an array of evaluation points"
   ]
  },
  {
   "cell_type": "code",
   "execution_count": null,
   "id": "89229ae7",
   "metadata": {},
   "outputs": [],
   "source": [
    "const N = 100;\n",
    "x = zeros(1,N);\n",
    "x[1,:] = range(0,stop=1,length=100)\n",
    "y = asMatrix(val(basis,x));"
   ]
  },
  {
   "cell_type": "markdown",
   "id": "31ee5ba3",
   "metadata": {},
   "source": [
    "Now we evaluate all basis functions in different rows of an array; every row represents an evaluation of a basis functions, with the columns the value at each point."
   ]
  },
  {
   "cell_type": "code",
   "execution_count": null,
   "id": "8d28b036",
   "metadata": {},
   "outputs": [],
   "source": [
    "ev = zeros(size(basis)+1,N);\n",
    "for fun in 1:size(basis)+1\n",
    "    ev[Int(fun),:] = asMatrix(val(basis,fun-1,x));\n",
    "end"
   ]
  },
  {
   "cell_type": "markdown",
   "id": "4cdf8910",
   "metadata": {},
   "source": [
    "To plot the basis from G+Smo, we simply plot the transpose of everything"
   ]
  },
  {
   "cell_type": "code",
   "execution_count": null,
   "id": "618aef2e",
   "metadata": {},
   "outputs": [],
   "source": [
    "# Plot the geometry\n",
    "p = plot()\n",
    "for fun in 1:Gismo.size(basis)+1\n",
    "    plot!(x[1,:],ev[Int(fun),:],label=\"fun $fun\",legend=false)\n",
    "end\n",
    "display(p)"
   ]
  }
 ],
 "metadata": {
  "language_info": {
   "name": "julia"
  }
 },
 "nbformat": 4,
 "nbformat_minor": 5
}
